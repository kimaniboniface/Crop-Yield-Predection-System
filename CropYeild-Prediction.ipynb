{
 "cells": [
  {
   "cell_type": "code",
   "execution_count": 83,
   "id": "c8a08b2e",
   "metadata": {},
   "outputs": [],
   "source": [
    "import numpy as np # linear algebra\n",
    "import pandas as pd # data processing, CSV file I/O (e.g. pd.read_csv)\n",
    "import matplotlib.pyplot as plt\n",
    "import seaborn as sns\n",
    "from sklearn.feature_selection import mutual_info_regression, SelectKBest\n",
    "from sklearn.cluster import KMeans\n",
    "from sklearn.preprocessing import StandardScaler, MinMaxScaler\n",
    "from sklearn.model_selection import train_test_split, cross_val_score, KFold, GridSearchCV, RepeatedKFold\n",
    "from sklearn.ensemble import AdaBoostRegressor, GradientBoostingRegressor, RandomForestRegressor\n",
    "from sklearn.metrics import mean_squared_error, r2_score, mean_absolute_error\n",
    "import sklearn\n",
    "from sklearn.pipeline import Pipeline\n",
    "from sklearn.model_selection import GridSearchCV\n",
    "import statsmodels.api as sm\n",
    "from xgboost import XGBRegressor\n",
    "import shap\n",
    "import streamlit as st\n",
    "import os"
   ]
  },
  {
   "cell_type": "code",
   "execution_count": 84,
   "id": "2de6e0cb",
   "metadata": {},
   "outputs": [],
   "source": [
    "df = pd.read_csv('cpdata.csv')"
   ]
  },
  {
   "cell_type": "code",
   "execution_count": 85,
   "id": "e5b6878a",
   "metadata": {},
   "outputs": [
    {
     "data": {
      "text/html": [
       "<div>\n",
       "<style scoped>\n",
       "    .dataframe tbody tr th:only-of-type {\n",
       "        vertical-align: middle;\n",
       "    }\n",
       "\n",
       "    .dataframe tbody tr th {\n",
       "        vertical-align: top;\n",
       "    }\n",
       "\n",
       "    .dataframe thead th {\n",
       "        text-align: right;\n",
       "    }\n",
       "</style>\n",
       "<table border=\"1\" class=\"dataframe\">\n",
       "  <thead>\n",
       "    <tr style=\"text-align: right;\">\n",
       "      <th></th>\n",
       "      <th>Unnamed: 0</th>\n",
       "      <th>Area</th>\n",
       "      <th>Item</th>\n",
       "      <th>Year</th>\n",
       "      <th>hg/ha_yield</th>\n",
       "      <th>average_rain_fall_mm_per_year</th>\n",
       "      <th>pesticides_tonnes</th>\n",
       "      <th>avg_temp</th>\n",
       "    </tr>\n",
       "  </thead>\n",
       "  <tbody>\n",
       "    <tr>\n",
       "      <th>0</th>\n",
       "      <td>0</td>\n",
       "      <td>Kisumu</td>\n",
       "      <td>Millet</td>\n",
       "      <td>2018</td>\n",
       "      <td>36613</td>\n",
       "      <td>202.935536</td>\n",
       "      <td>121.0</td>\n",
       "      <td>20.879744</td>\n",
       "    </tr>\n",
       "    <tr>\n",
       "      <th>1</th>\n",
       "      <td>1</td>\n",
       "      <td>Nakuru</td>\n",
       "      <td>Millet</td>\n",
       "      <td>2018</td>\n",
       "      <td>66667</td>\n",
       "      <td>226.655537</td>\n",
       "      <td>121.0</td>\n",
       "      <td>21.770462</td>\n",
       "    </tr>\n",
       "    <tr>\n",
       "      <th>2</th>\n",
       "      <td>2</td>\n",
       "      <td>Kisumu</td>\n",
       "      <td>Millet</td>\n",
       "      <td>2018</td>\n",
       "      <td>23333</td>\n",
       "      <td>263.964248</td>\n",
       "      <td>121.0</td>\n",
       "      <td>23.004459</td>\n",
       "    </tr>\n",
       "    <tr>\n",
       "      <th>3</th>\n",
       "      <td>3</td>\n",
       "      <td>Nairobi</td>\n",
       "      <td>Millet</td>\n",
       "      <td>2018</td>\n",
       "      <td>12500</td>\n",
       "      <td>242.864034</td>\n",
       "      <td>121.0</td>\n",
       "      <td>26.491096</td>\n",
       "    </tr>\n",
       "    <tr>\n",
       "      <th>4</th>\n",
       "      <td>4</td>\n",
       "      <td>Nairobi</td>\n",
       "      <td>Millet</td>\n",
       "      <td>2018</td>\n",
       "      <td>7000</td>\n",
       "      <td>262.717340</td>\n",
       "      <td>121.0</td>\n",
       "      <td>20.130175</td>\n",
       "    </tr>\n",
       "  </tbody>\n",
       "</table>\n",
       "</div>"
      ],
      "text/plain": [
       "   Unnamed: 0     Area    Item  Year  hg/ha_yield  \\\n",
       "0           0   Kisumu  Millet  2018        36613   \n",
       "1           1   Nakuru  Millet  2018        66667   \n",
       "2           2   Kisumu  Millet  2018        23333   \n",
       "3           3  Nairobi  Millet  2018        12500   \n",
       "4           4  Nairobi  Millet  2018         7000   \n",
       "\n",
       "   average_rain_fall_mm_per_year  pesticides_tonnes   avg_temp  \n",
       "0                     202.935536              121.0  20.879744  \n",
       "1                     226.655537              121.0  21.770462  \n",
       "2                     263.964248              121.0  23.004459  \n",
       "3                     242.864034              121.0  26.491096  \n",
       "4                     262.717340              121.0  20.130175  "
      ]
     },
     "execution_count": 85,
     "metadata": {},
     "output_type": "execute_result"
    }
   ],
   "source": [
    "\n",
    "df.head()"
   ]
  },
  {
   "cell_type": "code",
   "execution_count": 86,
   "id": "421f0561",
   "metadata": {},
   "outputs": [],
   "source": [
    "df.drop('Unnamed: 0',axis=1,inplace=True)"
   ]
  },
  {
   "cell_type": "code",
   "execution_count": 87,
   "id": "325b87b1",
   "metadata": {},
   "outputs": [
    {
     "data": {
      "text/plain": [
       "(3100, 7)"
      ]
     },
     "execution_count": 87,
     "metadata": {},
     "output_type": "execute_result"
    }
   ],
   "source": [
    "df.shape"
   ]
  },
  {
   "cell_type": "code",
   "execution_count": 88,
   "id": "1f038c47",
   "metadata": {},
   "outputs": [
    {
     "name": "stdout",
     "output_type": "stream",
     "text": [
      "<class 'pandas.core.frame.DataFrame'>\n",
      "RangeIndex: 3100 entries, 0 to 3099\n",
      "Data columns (total 7 columns):\n",
      " #   Column                         Non-Null Count  Dtype  \n",
      "---  ------                         --------------  -----  \n",
      " 0   Area                           3100 non-null   object \n",
      " 1   Item                           3100 non-null   object \n",
      " 2   Year                           3100 non-null   int64  \n",
      " 3   hg/ha_yield                    3100 non-null   int64  \n",
      " 4   average_rain_fall_mm_per_year  3100 non-null   float64\n",
      " 5   pesticides_tonnes              3100 non-null   float64\n",
      " 6   avg_temp                       3100 non-null   float64\n",
      "dtypes: float64(3), int64(2), object(2)\n",
      "memory usage: 169.7+ KB\n"
     ]
    }
   ],
   "source": [
    "df.info()"
   ]
  },
  {
   "cell_type": "code",
   "execution_count": 89,
   "id": "c29a42b2",
   "metadata": {},
   "outputs": [
    {
     "data": {
      "text/plain": [
       "Area                             0\n",
       "Item                             0\n",
       "Year                             0\n",
       "hg/ha_yield                      0\n",
       "average_rain_fall_mm_per_year    0\n",
       "pesticides_tonnes                0\n",
       "avg_temp                         0\n",
       "dtype: int64"
      ]
     },
     "execution_count": 89,
     "metadata": {},
     "output_type": "execute_result"
    }
   ],
   "source": [
    "df.isnull().sum()"
   ]
  },
  {
   "cell_type": "code",
   "execution_count": 90,
   "id": "c6d28556",
   "metadata": {},
   "outputs": [
    {
     "data": {
      "text/plain": [
       "0"
      ]
     },
     "execution_count": 90,
     "metadata": {},
     "output_type": "execute_result"
    }
   ],
   "source": [
    "df.duplicated().sum()"
   ]
  },
  {
   "cell_type": "code",
   "execution_count": 91,
   "id": "20050753",
   "metadata": {},
   "outputs": [],
   "source": [
    "def isStr(obj):\n",
    "    try:\n",
    "        float(obj)\n",
    "        return False\n",
    "    except:\n",
    "        return True\n",
    "to_drop = df[df['average_rain_fall_mm_per_year'].apply(isStr)].index"
   ]
  },
  {
   "cell_type": "code",
   "execution_count": 92,
   "id": "c35be2e9",
   "metadata": {},
   "outputs": [],
   "source": [
    "df = df.drop(to_drop)"
   ]
  },
  {
   "cell_type": "code",
   "execution_count": 93,
   "id": "369610c5",
   "metadata": {},
   "outputs": [
    {
     "data": {
      "text/html": [
       "<div>\n",
       "<style scoped>\n",
       "    .dataframe tbody tr th:only-of-type {\n",
       "        vertical-align: middle;\n",
       "    }\n",
       "\n",
       "    .dataframe tbody tr th {\n",
       "        vertical-align: top;\n",
       "    }\n",
       "\n",
       "    .dataframe thead th {\n",
       "        text-align: right;\n",
       "    }\n",
       "</style>\n",
       "<table border=\"1\" class=\"dataframe\">\n",
       "  <thead>\n",
       "    <tr style=\"text-align: right;\">\n",
       "      <th></th>\n",
       "      <th>Area</th>\n",
       "      <th>Item</th>\n",
       "      <th>Year</th>\n",
       "      <th>hg/ha_yield</th>\n",
       "      <th>average_rain_fall_mm_per_year</th>\n",
       "      <th>pesticides_tonnes</th>\n",
       "      <th>avg_temp</th>\n",
       "    </tr>\n",
       "  </thead>\n",
       "  <tbody>\n",
       "    <tr>\n",
       "      <th>0</th>\n",
       "      <td>Kisumu</td>\n",
       "      <td>Millet</td>\n",
       "      <td>2018</td>\n",
       "      <td>36613</td>\n",
       "      <td>202.935536</td>\n",
       "      <td>121.00</td>\n",
       "      <td>20.879744</td>\n",
       "    </tr>\n",
       "    <tr>\n",
       "      <th>1</th>\n",
       "      <td>Nakuru</td>\n",
       "      <td>Millet</td>\n",
       "      <td>2018</td>\n",
       "      <td>66667</td>\n",
       "      <td>226.655537</td>\n",
       "      <td>121.00</td>\n",
       "      <td>21.770462</td>\n",
       "    </tr>\n",
       "    <tr>\n",
       "      <th>2</th>\n",
       "      <td>Kisumu</td>\n",
       "      <td>Millet</td>\n",
       "      <td>2018</td>\n",
       "      <td>23333</td>\n",
       "      <td>263.964248</td>\n",
       "      <td>121.00</td>\n",
       "      <td>23.004459</td>\n",
       "    </tr>\n",
       "    <tr>\n",
       "      <th>3</th>\n",
       "      <td>Nairobi</td>\n",
       "      <td>Millet</td>\n",
       "      <td>2018</td>\n",
       "      <td>12500</td>\n",
       "      <td>242.864034</td>\n",
       "      <td>121.00</td>\n",
       "      <td>26.491096</td>\n",
       "    </tr>\n",
       "    <tr>\n",
       "      <th>4</th>\n",
       "      <td>Nairobi</td>\n",
       "      <td>Millet</td>\n",
       "      <td>2018</td>\n",
       "      <td>7000</td>\n",
       "      <td>262.717340</td>\n",
       "      <td>121.00</td>\n",
       "      <td>20.130175</td>\n",
       "    </tr>\n",
       "    <tr>\n",
       "      <th>...</th>\n",
       "      <td>...</td>\n",
       "      <td>...</td>\n",
       "      <td>...</td>\n",
       "      <td>...</td>\n",
       "      <td>...</td>\n",
       "      <td>...</td>\n",
       "      <td>...</td>\n",
       "    </tr>\n",
       "    <tr>\n",
       "      <th>3095</th>\n",
       "      <td>Nakuru</td>\n",
       "      <td>watermelon</td>\n",
       "      <td>2021</td>\n",
       "      <td>22023</td>\n",
       "      <td>58.286977</td>\n",
       "      <td>92967.22</td>\n",
       "      <td>25.287846</td>\n",
       "    </tr>\n",
       "    <tr>\n",
       "      <th>3096</th>\n",
       "      <td>Nairobi</td>\n",
       "      <td>watermelon</td>\n",
       "      <td>2021</td>\n",
       "      <td>22023</td>\n",
       "      <td>48.324286</td>\n",
       "      <td>92967.22</td>\n",
       "      <td>26.638386</td>\n",
       "    </tr>\n",
       "    <tr>\n",
       "      <th>3097</th>\n",
       "      <td>Eldoret</td>\n",
       "      <td>watermelon</td>\n",
       "      <td>2021</td>\n",
       "      <td>22023</td>\n",
       "      <td>41.532187</td>\n",
       "      <td>92967.22</td>\n",
       "      <td>25.331045</td>\n",
       "    </tr>\n",
       "    <tr>\n",
       "      <th>3098</th>\n",
       "      <td>Central</td>\n",
       "      <td>watermelon</td>\n",
       "      <td>2021</td>\n",
       "      <td>22023</td>\n",
       "      <td>43.971937</td>\n",
       "      <td>92967.22</td>\n",
       "      <td>26.897502</td>\n",
       "    </tr>\n",
       "    <tr>\n",
       "      <th>3099</th>\n",
       "      <td>Nakuru</td>\n",
       "      <td>watermelon</td>\n",
       "      <td>2021</td>\n",
       "      <td>22023</td>\n",
       "      <td>58.548767</td>\n",
       "      <td>92967.22</td>\n",
       "      <td>26.986037</td>\n",
       "    </tr>\n",
       "  </tbody>\n",
       "</table>\n",
       "<p>3100 rows × 7 columns</p>\n",
       "</div>"
      ],
      "text/plain": [
       "         Area        Item  Year  hg/ha_yield  average_rain_fall_mm_per_year  \\\n",
       "0      Kisumu      Millet  2018        36613                     202.935536   \n",
       "1      Nakuru      Millet  2018        66667                     226.655537   \n",
       "2      Kisumu      Millet  2018        23333                     263.964248   \n",
       "3     Nairobi      Millet  2018        12500                     242.864034   \n",
       "4     Nairobi      Millet  2018         7000                     262.717340   \n",
       "...       ...         ...   ...          ...                            ...   \n",
       "3095   Nakuru  watermelon  2021        22023                      58.286977   \n",
       "3096  Nairobi  watermelon  2021        22023                      48.324286   \n",
       "3097  Eldoret  watermelon  2021        22023                      41.532187   \n",
       "3098  Central  watermelon  2021        22023                      43.971937   \n",
       "3099   Nakuru  watermelon  2021        22023                      58.548767   \n",
       "\n",
       "      pesticides_tonnes   avg_temp  \n",
       "0                121.00  20.879744  \n",
       "1                121.00  21.770462  \n",
       "2                121.00  23.004459  \n",
       "3                121.00  26.491096  \n",
       "4                121.00  20.130175  \n",
       "...                 ...        ...  \n",
       "3095           92967.22  25.287846  \n",
       "3096           92967.22  26.638386  \n",
       "3097           92967.22  25.331045  \n",
       "3098           92967.22  26.897502  \n",
       "3099           92967.22  26.986037  \n",
       "\n",
       "[3100 rows x 7 columns]"
      ]
     },
     "execution_count": 93,
     "metadata": {},
     "output_type": "execute_result"
    }
   ],
   "source": [
    "df"
   ]
  },
  {
   "cell_type": "code",
   "execution_count": 94,
   "id": "7161fb16",
   "metadata": {},
   "outputs": [],
   "source": [
    "df['average_rain_fall_mm_per_year'] = df['average_rain_fall_mm_per_year'].astype(np.float64)"
   ]
  },
  {
   "cell_type": "code",
   "execution_count": 95,
   "id": "a88e0c2c",
   "metadata": {},
   "outputs": [
    {
     "data": {
      "text/plain": [
       "5"
      ]
     },
     "execution_count": 95,
     "metadata": {},
     "output_type": "execute_result"
    }
   ],
   "source": [
    "len(df['Area'].unique())"
   ]
  },
  {
   "cell_type": "code",
   "execution_count": 96,
   "id": "e42d5a11",
   "metadata": {},
   "outputs": [
    {
     "data": {
      "image/png": "[encoded data removed]",
      "text/plain": [
       "<Figure size 1500x2000 with 1 Axes>"
      ]
     },
     "metadata": {},
     "output_type": "display_data"
    }
   ],
   "source": [
    "plt.figure(figsize=(15,20))\n",
    "sns.countplot(y=df['Area'])\n",
    "plt.show()"
   ]
  },
  {
   "cell_type": "code",
   "execution_count": 97,
   "id": "1fb10d91",
   "metadata": {},
   "outputs": [
    {
     "data": {
      "text/plain": [
       "1"
      ]
     },
     "execution_count": 97,
     "metadata": {},
     "output_type": "execute_result"
    }
   ],
   "source": [
    "(df['Area'].value_counts() < 500).sum()"
   ]
  },
  {
   "cell_type": "code",
   "execution_count": 98,
   "id": "a99b406c",
   "metadata": {},
   "outputs": [],
   "source": [
    "region = df['Area'].unique()\n",
    "yield_per_region = []\n",
    "for state in region:\n",
    "    yield_per_region.append(df[df['Area']==state]['hg/ha_yield'].sum())"
   ]
  },
  {
   "cell_type": "code",
   "execution_count": 99,
   "id": "c2ce994b",
   "metadata": {},
   "outputs": [
    {
     "data": {
      "text/plain": [
       "252681122"
      ]
     },
     "execution_count": 99,
     "metadata": {},
     "output_type": "execute_result"
    }
   ],
   "source": [
    "\n",
    "df['hg/ha_yield'].sum()"
   ]
  },
  {
   "cell_type": "code",
   "execution_count": 100,
   "id": "0ccec1b7",
   "metadata": {},
   "outputs": [
    {
     "data": {
      "text/plain": [
       "[3403482, 62016257, 53319719, 70217441, 63724223]"
      ]
     },
     "execution_count": 100,
     "metadata": {},
     "output_type": "execute_result"
    }
   ],
   "source": [
    "yield_per_region"
   ]
  },
  {
   "cell_type": "code",
   "execution_count": 101,
   "id": "be9a7fe9",
   "metadata": {},
   "outputs": [
    {
     "data": {
      "text/plain": [
       "<Axes: >"
      ]
     },
     "execution_count": 101,
     "metadata": {},
     "output_type": "execute_result"
    },
    {
     "data": {
      "image/png": "[encoded data removed]",
      "text/plain": [
       "<Figure size 1500x2000 with 1 Axes>"
      ]
     },
     "metadata": {},
     "output_type": "display_data"
    }
   ],
   "source": [
    "plt.figure(figsize=(15, 20))\n",
    "sns.barplot(y=region, x=yield_per_region)"
   ]
  },
  {
   "cell_type": "code",
   "execution_count": 102,
   "id": "0714fbe5",
   "metadata": {},
   "outputs": [
    {
     "data": {
      "text/plain": [
       "<Axes: xlabel='count', ylabel='Item'>"
      ]
     },
     "execution_count": 102,
     "metadata": {},
     "output_type": "execute_result"
    },
    {
     "data": {
      "image/png": "[encoded data removed]",
      "text/plain": [
       "<Figure size 640x480 with 1 Axes>"
      ]
     },
     "metadata": {},
     "output_type": "display_data"
    }
   ],
   "source": [
    "sns.countplot(y=df['Item'])"
   ]
  },
  {
   "cell_type": "code",
   "execution_count": 103,
   "id": "af1b9f35",
   "metadata": {},
   "outputs": [],
   "source": [
    "crops = df['Item'].unique()\n",
    "yield_per_crop = []\n",
    "for crop in crops:\n",
    "    yield_per_crop.append(df[df['Item']==crop]['hg/ha_yield'].sum())"
   ]
  },
  {
   "cell_type": "code",
   "execution_count": 104,
   "id": "3a68c8da",
   "metadata": {},
   "outputs": [
    {
     "data": {
      "text/plain": [
       "<Axes: >"
      ]
     },
     "execution_count": 104,
     "metadata": {},
     "output_type": "execute_result"
    },
    {
     "data": {
      "image/png": "[encoded data removed]",
      "text/plain": [
       "<Figure size 640x480 with 1 Axes>"
      ]
     },
     "metadata": {},
     "output_type": "display_data"
    }
   ],
   "source": [
    "sns.barplot(y=crops,x=yield_per_crop)"
   ]
  },
  {
   "cell_type": "code",
   "execution_count": 105,
   "id": "ae94127f",
   "metadata": {
    "scrolled": true
   },
   "outputs": [],
   "source": [
    "col = ['Year', 'average_rain_fall_mm_per_year','pesticides_tonnes', 'avg_temp', 'Area', 'Item', 'hg/ha_yield']\n",
    "df = df[col]\n",
    "X = df.iloc[:, :-1]\n",
    "y = df.iloc[:, -1]"
   ]
  },
  {
   "cell_type": "code",
   "execution_count": 106,
   "id": "4bd5b1b1",
   "metadata": {},
   "outputs": [],
   "source": [
    "from sklearn.model_selection import train_test_split\n",
    "X_train, X_test, y_train, y_test = train_test_split(X, y, train_size=0.8, random_state=0, shuffle=True)"
   ]
  },
  {
   "cell_type": "code",
   "execution_count": 107,
   "id": "e69d49f8",
   "metadata": {},
   "outputs": [],
   "source": [
    "from sklearn.preprocessing import OneHotEncoder\n",
    "from sklearn.compose import ColumnTransformer\n",
    "from sklearn.preprocessing import StandardScaler\n",
    "ohe = OneHotEncoder(drop='first')\n",
    "scale = StandardScaler()\n",
    "\n",
    "preprocesser = ColumnTransformer(\n",
    "        transformers = [\n",
    "            ('StandardScale', scale, [0, 1, 2, 3]),\n",
    "            ('OHE', ohe, [4, 5]),\n",
    "        ],\n",
    "        remainder='passthrough'\n",
    ")"
   ]
  },
  {
   "cell_type": "code",
   "execution_count": 108,
   "id": "e26d59ec",
   "metadata": {},
   "outputs": [],
   "source": [
    "X_train_dummy = preprocesser.fit_transform(X_train)\n",
    "X_test_dummy = preprocesser.transform(X_test)"
   ]
  },
  {
   "cell_type": "code",
   "execution_count": 109,
   "id": "94ef225a",
   "metadata": {},
   "outputs": [
    {
     "data": {
      "text/plain": [
       "array(['StandardScale__Year',\n",
       "       'StandardScale__average_rain_fall_mm_per_year',\n",
       "       'StandardScale__pesticides_tonnes', 'StandardScale__avg_temp',\n",
       "       'OHE__Area_Eldoret', 'OHE__Area_Kisumu', 'OHE__Area_Nairobi',\n",
       "       'OHE__Area_Nakuru', 'OHE__Item_Apple', 'OHE__Item_Banana',\n",
       "       'OHE__Item_Black gram', 'OHE__Item_Chickpea', 'OHE__Item_Coffee',\n",
       "       'OHE__Item_Cotton', 'OHE__Item_Green grams',\n",
       "       'OHE__Item_Ground nuts', 'OHE__Item_Jute',\n",
       "       'OHE__Item_Kidney beans', 'OHE__Item_Lentil', 'OHE__Item_Maize',\n",
       "       'OHE__Item_Mango', 'OHE__Item_Millet', 'OHE__Item_Mung bean',\n",
       "       'OHE__Item_Peas', 'OHE__Item_Pigeon Peas', 'OHE__Item_Potatoes',\n",
       "       'OHE__Item_Rice', 'OHE__Item_Rubber', 'OHE__Item_Tea',\n",
       "       'OHE__Item_Wheat', 'OHE__Item_grapes', 'OHE__Item_muskmelon',\n",
       "       'OHE__Item_orange', 'OHE__Item_papaya', 'OHE__Item_pomegranate',\n",
       "       'OHE__Item_sugarcane', 'OHE__Item_watermelon'], dtype=object)"
      ]
     },
     "execution_count": 109,
     "metadata": {},
     "output_type": "execute_result"
    }
   ],
   "source": [
    "preprocesser.get_feature_names_out(col[:-1])"
   ]
  },
  {
   "cell_type": "code",
   "execution_count": 110,
   "id": "1037ff9b",
   "metadata": {},
   "outputs": [
    {
     "name": "stdout",
     "output_type": "stream",
     "text": [
      "lr : mae : 65984.42806516011 score : 0.060116489592065614\n",
      "lss : mae : 65983.02428272195 score : 0.060215597815040045\n",
      "Rid : mae : 65967.34185278193 score : 0.06105053572624708\n",
      "Dtr : mae : 77007.31451612903 score : -0.865712677655915\n"
     ]
    }
   ],
   "source": [
    "#linear regression\n",
    "from sklearn.linear_model import LinearRegression,Lasso,Ridge\n",
    "from sklearn.neighbors import KNeighborsRegressor\n",
    "from sklearn.tree import DecisionTreeRegressor\n",
    "from sklearn.metrics import mean_absolute_error,r2_score\n",
    "\n",
    "\n",
    "models = {\n",
    "    'lr':LinearRegression(),\n",
    "    'lss':Lasso(),\n",
    "    'Rid':Ridge(),\n",
    "    'Dtr':DecisionTreeRegressor()\n",
    "}\n",
    "for name, md in models.items():\n",
    "    md.fit(X_train_dummy,y_train)\n",
    "    y_pred = md.predict(X_test_dummy)\n",
    "    \n",
    "    print(f\"{name} : mae : {mean_absolute_error(y_test,y_pred)} score : {r2_score(y_test,y_pred)}\")"
   ]
  },
  {
   "cell_type": "code",
   "execution_count": 111,
   "id": "787813e0",
   "metadata": {},
   "outputs": [
    {
     "data": {
      "text/plain": [
       "array([ 17899.,  14295., 100000.,   2016.,  54329., 166667.,  45237.,\n",
       "       186040.,  42989., 344391., 294270.,   2500., 298183.,  34003.,\n",
       "        65604., 328633., 141084.,  23333.,  90000.,  14825.,  44688.,\n",
       "        30558.,  21673., 286765.,  47619.,  18209., 113070.,  30556.,\n",
       "        24376., 382592.,  21241.,  20148.,  35428.,  40252.,  90907.,\n",
       "        18390.,   4449.,  20301.,  67187., 277566.,  16667.,  24733.,\n",
       "        36845.,  10788., 130631.,  80475., 132173., 100000., 140264.,\n",
       "        20993.,  23629.,  25302.,  13738., 155252., 210000.,  12222.,\n",
       "       100000.,  17899., 101000.,  20100., 132702., 422676.,  44029.,\n",
       "         6690.,  40252.,  63503., 130000.,  20032.,  28691., 284527.,\n",
       "        31254.,   9000.,  63540., 100000., 120019.,  64441.,  16810.,\n",
       "        88003.,  17899., 454642., 307044., 151142.,  46620.,  56912.,\n",
       "        50653., 125529.,  57390.,  84609., 385434.,  19153.,  53856.,\n",
       "       113070.,  15541., 141667.,  45531.,  20352.,  25661.,  44206.,\n",
       "       155252.,  91353., 143478., 289220., 289220.,  14232., 285828.,\n",
       "       112551.,  15831.,  81366.,  82609.,  22257., 103895.,  26195.,\n",
       "        16667., 104452.,  25661.,  15541.,  26786.,  51872.,  22249.,\n",
       "        24561.,  15898.,  91667.,  31300.,  17981.,  15533., 207151.,\n",
       "        37814.,   3333., 131864.,  15898.,  15729., 268502.,  14626.,\n",
       "        18471.,  15729., 251347.,  14834.,  22398., 154472.,  88000.,\n",
       "        16348.,  91667.,  11584., 126164., 149768.,  15533.,  83263.,\n",
       "        55760.,  13214.,  14626., 322292.,  26053.,  11356.,  96544.,\n",
       "         1353., 148754.,  40229., 120019.,  95259.,   4286.,  13738.,\n",
       "       151462.,  23876.,  14627.,  12222.,  67901.,  25668., 422676.,\n",
       "       120628.,  19527., 201839.,  60791.,  65512.,  15718.,  11104.,\n",
       "       129626.,  24934.,  95078., 361747.,  60791.,  73587., 152304.,\n",
       "        65838.,  65604.,  84609.,  40295.,   4031.,  22023.,  17190.,\n",
       "        17812.,  96477.,  45223.,  24934.,  26629., 279412., 172474.,\n",
       "        58171.,  12834., 113972., 112810., 351334.,  25827., 294270.,\n",
       "        48163.,  50191.,  53311.,  26629.,  24883.,  98176.,  14148.,\n",
       "        53703.,  78908., 154867., 119258.,  20100.,  21675.,   1111.,\n",
       "       113070., 152304., 100000., 382592.,  17981., 132173., 126164.,\n",
       "       153868.,  22398.,  15541.,  96232., 140264.,  20352.,  50856.,\n",
       "        17899.,  49103., 132702.,  14627.,  36845.,  18974., 131364.,\n",
       "        94652.,  36845., 111323.,  54929., 137140.,  26005., 132173.,\n",
       "       156430.,  38752., 130631., 317647.,  91353.,  15533.,  14627.,\n",
       "       276923.,   1111., 154867.,  96232.,  21321.,  34020., 277566.,\n",
       "        23168.,  41821., 277566.,  53424.,   7703.,  65953.,  36917.,\n",
       "        22136.,  89459.,  20148.,  18714.,  96477., 160256.,  14295.,\n",
       "        64441.,  13738.,  60000.,  22023.,  24883., 284527.,   1500.,\n",
       "       354317.,  70000., 130631.,  18735.,  34003.,   3333.,  22667.,\n",
       "        14717., 107920.,  22912.,  52954., 113070.,  54929.,  88000.,\n",
       "        46082., 126010.,  14626., 140264.,  78040.,  20352., 351358.,\n",
       "        63540.,  20446.,  96081.,  15551.,  63540.,  26005.,  22023.,\n",
       "        17899.,   5507.,  32215.,  26053.,  90465.,  11356.,  34003.,\n",
       "        63540., 190627., 141084.,  44261., 149497., 231111., 351358.,\n",
       "       190627.,  23629.,    849.,  39965., 319252., 104452., 193790.,\n",
       "        14615.,  46732.,  23629.,   7998.,  16344.,  55760.,  92479.,\n",
       "       385434.,  22075.,  18803.,  36845.,  21255.,  98688.,  23877.,\n",
       "        29369.,  73409., 298183.,  66037., 202747.,  25321.,  44029.,\n",
       "       319252.,  19865.,  50286.,  11540.,  18084.,  91353.,  19056.,\n",
       "        18555.,  14295., 131195.,  88427.,    857., 362787.,  26195.,\n",
       "        27789.,  79198., 250797.,   8376.,  14295.,  18714.,  88427.,\n",
       "       385434.,  12667.,  82992.,  20446.,  27175., 346237., 120019.,\n",
       "       100000.,  22912.,  21076.,  40252.,  14232.,  38763.,  75988.,\n",
       "       132702.,  21675.,  89098., 351358., 126164.,  16000.,  22136.,\n",
       "        23020.,   8575., 126164., 131195.,  90465.,  96477.,  21632.,\n",
       "        73587.,  81366.,  24545.,  23959.,  23876.,  18714., 385434.,\n",
       "        57337., 343985.,  75988.,  46197.,  68842.,  18803.,  23959.,\n",
       "       120628.,  91489., 140432.,  21076.,  15533.,  91413.,  22336.,\n",
       "       103128.,  46778.,  20352.,  75783., 307044.,  39965.,   3778.,\n",
       "        52088.,  55593.,  60780.,  54257., 289220.,  15718., 350887.,\n",
       "        15034.,  96477.,  12346.,  17035.,  11540., 155212.,  20993.,\n",
       "       120019.,   3571.,  20993.,  45551.,  11104., 148805., 120019.,\n",
       "        35428., 354317.,  32215., 350887.,  10959.,   2857., 355463.,\n",
       "        11540.,   9173.,   3333.,  59403.,  90919.,  34419., 152304.,\n",
       "        54553.,  30558.,  40295., 287821.,   7946.,   2463.,  46477.,\n",
       "         2909.,  20148.,  14627., 322292.,  14825., 343985.,  88427.,\n",
       "        40000.,   2500.,  17812., 193790., 132173.,  35065.,  84609.,\n",
       "       141084.,  23876.,  26005.,  26592.,   4000.,  54929.,  21255.,\n",
       "        43422.,  15318., 137140., 290981.,  47544.,  19697.,  14615.,\n",
       "        20918., 101504.,  13198.,   3778.,  89459., 250797.,  24545.,\n",
       "        47990.,  18412.,  14626., 125529.,  27367.,  65950.,   4000.,\n",
       "        18735.,  24873.,  17322., 354317.,  26053.,  28691.,  41821.,\n",
       "        38811., 152304.,  22828.,  20148., 180931., 385434., 469491.,\n",
       "        14232.,  16571.,  13052., 131196.,  52412.,  63001.,  82609.,\n",
       "        19056.,  21349.,  10000., 321265.,  31724.,  25539.,  15318.,\n",
       "       219780.,  91413.,  14232.,  32604., 298183.,  67901., 100000.,\n",
       "         9781.,  14626., 312853.,  17609.,  18471.,  18209.,  41821.,\n",
       "        21632.,  50407.,   3320., 165373.,  19658.,  28220.,  20148.,\n",
       "        11540., 183774., 141084.,  49360., 107920.,   8376.,  23629.,\n",
       "        17609., 121132., 132173.,  26005.,  20677.,  44261., 126164.,\n",
       "       125529., 287821.,  91615.,  18555.,  12346.,  18084.,  45548.,\n",
       "        20736., 100000.,   7901.,  20148.,  63001.,  82623.,  39938.,\n",
       "        63540.,  11111.,   1111., 111215.,  23028.,  18261., 328633.,\n",
       "       126164.,  53703., 103895.,  73587.,  91410., 126010., 140264.,\n",
       "       228877., 127548., 106787.,  61512.,  17212.,  27287., 205692.,\n",
       "        37823.,  15541., 289220.,  82580., 155782., 126164., 120628.,\n",
       "        22598.,  35359., 328633.,  29712.])"
      ]
     },
     "execution_count": 111,
     "metadata": {},
     "output_type": "execute_result"
    }
   ],
   "source": [
    "dtr = DecisionTreeRegressor()\n",
    "dtr.fit(X_train_dummy,y_train)\n",
    "dtr.predict(X_test_dummy)"
   ]
  },
  {
   "cell_type": "code",
   "execution_count": 112,
   "id": "a5ba3c21",
   "metadata": {},
   "outputs": [
    {
     "name": "stderr",
     "output_type": "stream",
     "text": [
      "X does not have valid feature names, but StandardScaler was fitted with feature names\n",
      "X does not have valid feature names, but OneHotEncoder was fitted with feature names\n"
     ]
    }
   ],
   "source": [
    "def prediction(Year, average_rain_fall_mm_per_year, pesticides_tonnes, avg_temp, Area, Item):\n",
    "    # Create an array of the input features\n",
    "    features = np.array([[Year, average_rain_fall_mm_per_year, pesticides_tonnes, avg_temp, Area, Item]], dtype=object)\n",
    "\n",
    "    # Transform the features using the preprocessor\n",
    "    transformed_features = preprocesser.transform(features)\n",
    "\n",
    "    # Make the prediction\n",
    "    predicted_yield = dtr.predict(transformed_features).reshape(1, -1)\n",
    "\n",
    "    return predicted_yield[0]\n",
    "\n",
    "Year = 2018\n",
    "average_rain_fall_mm_per_year =202.9355362\n",
    "pesticides_tonnes = 121.00\n",
    "avg_temp = 20.87974371                 \n",
    "Area = 'Kisumu'\n",
    "Item = 'Millet'\n",
    "result = prediction(Year, average_rain_fall_mm_per_year, pesticides_tonnes, avg_temp, Area, Item)"
   ]
  },
  {
   "cell_type": "code",
   "execution_count": 113,
   "id": "a31b7440",
   "metadata": {},
   "outputs": [
    {
     "data": {
      "text/plain": [
       "array([36613.])"
      ]
     },
     "execution_count": 113,
     "metadata": {},
     "output_type": "execute_result"
    }
   ],
   "source": [
    "result"
   ]
  },
  {
   "cell_type": "code",
   "execution_count": 116,
   "id": "79a27fbf",
   "metadata": {},
   "outputs": [],
   "source": [
    "import pickle\n",
    "pickle.dump(dtr,open('dtr.pkl','wb'))\n",
    "pickle.dump(preprocesser,open('preprocessor.pkl','wb'))"
   ]
  },
  {
   "cell_type": "code",
   "execution_count": 115,
   "id": "2f7bcc8b",
   "metadata": {},
   "outputs": [
    {
     "name": "stdout",
     "output_type": "stream",
     "text": [
      "1.3.0\n"
     ]
    }
   ],
   "source": [
    "import sklearn\n",
    "print(sklearn.__version__)"
   ]
  },
  {
   "cell_type": "code",
   "execution_count": null,
   "id": "4c35c923",
   "metadata": {},
   "outputs": [],
   "source": []
  }
 ],
 "metadata": {
  "kernelspec": {
   "display_name": "Python 3 (ipykernel)",
   "language": "python",
   "name": "python3"
  },
  "language_info": {
   "codemirror_mode": {
    "name": "ipython",
    "version": 3
   },
   "file_extension": ".py",
   "mimetype": "text/x-python",
   "name": "python",
   "nbconvert_exporter": "python",
   "pygments_lexer": "ipython3",
   "version": "3.11.5"
  }
 },
 "nbformat": 4,
 "nbformat_minor": 5
}
